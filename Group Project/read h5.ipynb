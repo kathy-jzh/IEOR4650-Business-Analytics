{
 "cells": [
  {
   "cell_type": "code",
   "execution_count": 4,
   "metadata": {},
   "outputs": [],
   "source": [
    "import h5py    \n",
    "import numpy as np    \n",
    "f = h5py.File('/Users/kathy/Downloads/MillionSongSubset/data/A/A/A/TRAAAAW128F429D538.h5','r+')   "
   ]
  },
  {
   "cell_type": "code",
   "execution_count": 5,
   "metadata": {},
   "outputs": [
    {
     "name": "stdout",
     "output_type": "stream",
     "text": [
      "Keys: KeysView(<HDF5 file \"TRAAAAW128F429D538.h5\" (mode r+)>)\n"
     ]
    }
   ],
   "source": [
    "print(\"Keys: %s\" % f.keys())\n",
    "a_group_key = list(f.keys())[0]\n",
    "\n",
    "# Get the data\n",
    "data = list(f[a_group_key])"
   ]
  },
  {
   "cell_type": "code",
   "execution_count": 7,
   "metadata": {},
   "outputs": [
    {
     "data": {
      "text/plain": [
       "['bars_confidence',\n",
       " 'bars_start',\n",
       " 'beats_confidence',\n",
       " 'beats_start',\n",
       " 'sections_confidence',\n",
       " 'sections_start',\n",
       " 'segments_confidence',\n",
       " 'segments_loudness_max',\n",
       " 'segments_loudness_max_time',\n",
       " 'segments_loudness_start',\n",
       " 'segments_pitches',\n",
       " 'segments_start',\n",
       " 'segments_timbre',\n",
       " 'songs',\n",
       " 'tatums_confidence',\n",
       " 'tatums_start']"
      ]
     },
     "execution_count": 7,
     "metadata": {},
     "output_type": "execute_result"
    }
   ],
   "source": [
    "data"
   ]
  },
  {
   "cell_type": "code",
   "execution_count": 8,
   "metadata": {},
   "outputs": [
    {
     "name": "stdout",
     "output_type": "stream",
     "text": [
      "[ 5.29239776e-260  1.11688278e-308  2.12251386e-314 ... -7.06921828e+260\n",
      "  6.81765223e+153 -2.25994309e+306]\n"
     ]
    }
   ],
   "source": [
    "myarray = np.fromfile('/Users/kathy/Downloads/MillionSongSubset/data/A/A/A/TRAAAAW128F429D538.h5', dtype=float)\n",
    "print(myarray)"
   ]
  },
  {
   "cell_type": "code",
   "execution_count": 9,
   "metadata": {},
   "outputs": [
    {
     "data": {
      "text/plain": [
       "35555"
      ]
     },
     "execution_count": 9,
     "metadata": {},
     "output_type": "execute_result"
    }
   ],
   "source": []
  },
  {
   "cell_type": "code",
   "execution_count": null,
   "metadata": {},
   "outputs": [],
   "source": []
  }
 ],
 "metadata": {
  "kernelspec": {
   "display_name": "Python 3",
   "language": "python",
   "name": "python3"
  },
  "language_info": {
   "codemirror_mode": {
    "name": "ipython",
    "version": 3
   },
   "file_extension": ".py",
   "mimetype": "text/x-python",
   "name": "python",
   "nbconvert_exporter": "python",
   "pygments_lexer": "ipython3",
   "version": "3.6.8"
  },
  "toc": {
   "nav_menu": {},
   "number_sections": true,
   "sideBar": true,
   "skip_h1_title": false,
   "toc_cell": false,
   "toc_position": {},
   "toc_section_display": "block",
   "toc_window_display": false
  }
 },
 "nbformat": 4,
 "nbformat_minor": 2
}
