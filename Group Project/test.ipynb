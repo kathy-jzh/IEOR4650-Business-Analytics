{
 "cells": [
  {
   "cell_type": "code",
   "execution_count": 3,
   "metadata": {},
   "outputs": [],
   "source": [
    "import pandas as pd\n",
    "import numpy as np\n",
    "import matplotlib.pyplot as plt\n",
    "%matplotlib inline"
   ]
  },
  {
   "cell_type": "code",
   "execution_count": 4,
   "metadata": {},
   "outputs": [],
   "source": [
    "data= pd.read_csv('music_cleaned.csv')"
   ]
  },
  {
   "cell_type": "code",
   "execution_count": 15,
   "metadata": {},
   "outputs": [
    {
     "data": {
      "text/plain": [
       "[<matplotlib.lines.Line2D at 0x115b98cc0>]"
      ]
     },
     "execution_count": 15,
     "metadata": {},
     "output_type": "execute_result"
    },
    {
     "data": {
      "image/png": "[encoded data removed]",
      "text/plain": [
       "<Figure size 432x288 with 1 Axes>"
      ]
     },
     "metadata": {},
     "output_type": "display_data"
    }
   ],
   "source": [
    "plt.plot(sorted(data['artist.hotness']))"
   ]
  },
  {
   "cell_type": "code",
   "execution_count": 10,
   "metadata": {},
   "outputs": [
    {
     "data": {
      "text/html": [
       "<div>\n",
       "<style scoped>\n",
       "    .dataframe tbody tr th:only-of-type {\n",
       "        vertical-align: middle;\n",
       "    }\n",
       "\n",
       "    .dataframe tbody tr th {\n",
       "        vertical-align: top;\n",
       "    }\n",
       "\n",
       "    .dataframe thead th {\n",
       "        text-align: right;\n",
       "    }\n",
       "</style>\n",
       "<table border=\"1\" class=\"dataframe\">\n",
       "  <thead>\n",
       "    <tr style=\"text-align: right;\">\n",
       "      <th></th>\n",
       "      <th>Unnamed: 0</th>\n",
       "      <th>artist.name</th>\n",
       "      <th>artist.hotness</th>\n",
       "      <th>Songs</th>\n",
       "      <th>Year</th>\n",
       "      <th>bars_confidence</th>\n",
       "      <th>bars_start</th>\n",
       "      <th>beats_confidence</th>\n",
       "      <th>beats_start</th>\n",
       "      <th>duration</th>\n",
       "      <th>...</th>\n",
       "      <th>song.hotness</th>\n",
       "      <th>start_of_fade_out</th>\n",
       "      <th>tatums_confidence</th>\n",
       "      <th>tatums_start</th>\n",
       "      <th>tempo</th>\n",
       "      <th>terms</th>\n",
       "      <th>terms_freq</th>\n",
       "      <th>time_signature</th>\n",
       "      <th>time_signature_confidence</th>\n",
       "      <th>Time</th>\n",
       "    </tr>\n",
       "  </thead>\n",
       "  <tbody>\n",
       "    <tr>\n",
       "      <th>0</th>\n",
       "      <td>3</td>\n",
       "      <td>Adam Ant</td>\n",
       "      <td>0.454231</td>\n",
       "      <td>Something Girls</td>\n",
       "      <td>1982</td>\n",
       "      <td>0.017</td>\n",
       "      <td>1.30621</td>\n",
       "      <td>0.809</td>\n",
       "      <td>0.81002</td>\n",
       "      <td>233.40363</td>\n",
       "      <td>...</td>\n",
       "      <td>NaN</td>\n",
       "      <td>217.124</td>\n",
       "      <td>0.601</td>\n",
       "      <td>0.56254</td>\n",
       "      <td>119.293</td>\n",
       "      <td>pop rock</td>\n",
       "      <td>0.988584</td>\n",
       "      <td>4</td>\n",
       "      <td>0.000</td>\n",
       "      <td>80s</td>\n",
       "    </tr>\n",
       "    <tr>\n",
       "      <th>1</th>\n",
       "      <td>4</td>\n",
       "      <td>Gob</td>\n",
       "      <td>0.401724</td>\n",
       "      <td>Face the Ashes</td>\n",
       "      <td>2007</td>\n",
       "      <td>0.175</td>\n",
       "      <td>1.06368</td>\n",
       "      <td>0.883</td>\n",
       "      <td>0.13576</td>\n",
       "      <td>209.60608</td>\n",
       "      <td>...</td>\n",
       "      <td>0.604501</td>\n",
       "      <td>198.699</td>\n",
       "      <td>1.000</td>\n",
       "      <td>0.13576</td>\n",
       "      <td>129.738</td>\n",
       "      <td>pop punk</td>\n",
       "      <td>0.887288</td>\n",
       "      <td>4</td>\n",
       "      <td>0.562</td>\n",
       "      <td>00s</td>\n",
       "    </tr>\n",
       "    <tr>\n",
       "      <th>2</th>\n",
       "      <td>8</td>\n",
       "      <td>Planet P Project</td>\n",
       "      <td>0.332276</td>\n",
       "      <td>Pink World</td>\n",
       "      <td>1984</td>\n",
       "      <td>0.806</td>\n",
       "      <td>1.91886</td>\n",
       "      <td>0.440</td>\n",
       "      <td>1.22595</td>\n",
       "      <td>269.81832</td>\n",
       "      <td>...</td>\n",
       "      <td>0.265861</td>\n",
       "      <td>258.990</td>\n",
       "      <td>0.121</td>\n",
       "      <td>1.22595</td>\n",
       "      <td>86.643</td>\n",
       "      <td>new wave</td>\n",
       "      <td>0.959766</td>\n",
       "      <td>4</td>\n",
       "      <td>0.487</td>\n",
       "      <td>80s</td>\n",
       "    </tr>\n",
       "    <tr>\n",
       "      <th>3</th>\n",
       "      <td>14</td>\n",
       "      <td>Lionel Richie</td>\n",
       "      <td>0.553072</td>\n",
       "      <td>Tonight Will Be Alright</td>\n",
       "      <td>1986</td>\n",
       "      <td>0.191</td>\n",
       "      <td>0.82842</td>\n",
       "      <td>1.000</td>\n",
       "      <td>0.82842</td>\n",
       "      <td>307.38240</td>\n",
       "      <td>...</td>\n",
       "      <td>NaN</td>\n",
       "      <td>296.658</td>\n",
       "      <td>0.389</td>\n",
       "      <td>0.58901</td>\n",
       "      <td>125.197</td>\n",
       "      <td>quiet storm</td>\n",
       "      <td>1.000000</td>\n",
       "      <td>3</td>\n",
       "      <td>0.211</td>\n",
       "      <td>80s</td>\n",
       "    </tr>\n",
       "    <tr>\n",
       "      <th>4</th>\n",
       "      <td>15</td>\n",
       "      <td>Blue Rodeo</td>\n",
       "      <td>0.447935</td>\n",
       "      <td>Floating</td>\n",
       "      <td>1987</td>\n",
       "      <td>0.507</td>\n",
       "      <td>1.32118</td>\n",
       "      <td>0.000</td>\n",
       "      <td>0.30065</td>\n",
       "      <td>491.12771</td>\n",
       "      <td>...</td>\n",
       "      <td>0.405116</td>\n",
       "      <td>486.034</td>\n",
       "      <td>0.377</td>\n",
       "      <td>0.05047</td>\n",
       "      <td>119.826</td>\n",
       "      <td>country rock</td>\n",
       "      <td>1.000000</td>\n",
       "      <td>4</td>\n",
       "      <td>0.756</td>\n",
       "      <td>80s</td>\n",
       "    </tr>\n",
       "  </tbody>\n",
       "</table>\n",
       "<p>5 rows × 33 columns</p>\n",
       "</div>"
      ],
      "text/plain": [
       "   Unnamed: 0       artist.name  artist.hotness                    Songs  \\\n",
       "0           3          Adam Ant        0.454231          Something Girls   \n",
       "1           4               Gob        0.401724           Face the Ashes   \n",
       "2           8  Planet P Project        0.332276               Pink World   \n",
       "3          14     Lionel Richie        0.553072  Tonight Will Be Alright   \n",
       "4          15        Blue Rodeo        0.447935                 Floating   \n",
       "\n",
       "   Year  bars_confidence  bars_start  beats_confidence  beats_start  \\\n",
       "0  1982            0.017     1.30621             0.809      0.81002   \n",
       "1  2007            0.175     1.06368             0.883      0.13576   \n",
       "2  1984            0.806     1.91886             0.440      1.22595   \n",
       "3  1986            0.191     0.82842             1.000      0.82842   \n",
       "4  1987            0.507     1.32118             0.000      0.30065   \n",
       "\n",
       "    duration  ...   song.hotness  start_of_fade_out  tatums_confidence  \\\n",
       "0  233.40363  ...            NaN            217.124              0.601   \n",
       "1  209.60608  ...       0.604501            198.699              1.000   \n",
       "2  269.81832  ...       0.265861            258.990              0.121   \n",
       "3  307.38240  ...            NaN            296.658              0.389   \n",
       "4  491.12771  ...       0.405116            486.034              0.377   \n",
       "\n",
       "   tatums_start    tempo         terms  terms_freq  time_signature  \\\n",
       "0       0.56254  119.293      pop rock    0.988584               4   \n",
       "1       0.13576  129.738      pop punk    0.887288               4   \n",
       "2       1.22595   86.643      new wave    0.959766               4   \n",
       "3       0.58901  125.197   quiet storm    1.000000               3   \n",
       "4       0.05047  119.826  country rock    1.000000               4   \n",
       "\n",
       "   time_signature_confidence  Time  \n",
       "0                      0.000   80s  \n",
       "1                      0.562   00s  \n",
       "2                      0.487   80s  \n",
       "3                      0.211   80s  \n",
       "4                      0.756   80s  \n",
       "\n",
       "[5 rows x 33 columns]"
      ]
     },
     "execution_count": 10,
     "metadata": {},
     "output_type": "execute_result"
    }
   ],
   "source": [
    "data.head()"
   ]
  },
  {
   "cell_type": "code",
   "execution_count": 16,
   "metadata": {},
   "outputs": [
    {
     "data": {
      "text/plain": [
       "[<matplotlib.lines.Line2D at 0x1158d1668>]"
      ]
     },
     "execution_count": 16,
     "metadata": {},
     "output_type": "execute_result"
    },
    {
     "data": {
      "image/png": "[encoded data removed]",
      "text/plain": [
       "<Figure size 432x288 with 1 Axes>"
      ]
     },
     "metadata": {},
     "output_type": "display_data"
    }
   ],
   "source": [
    "plt.plot(sorted(data['Year']))"
   ]
  },
  {
   "cell_type": "code",
   "execution_count": null,
   "metadata": {},
   "outputs": [],
   "source": []
  }
 ],
 "metadata": {
  "kernelspec": {
   "display_name": "Python 3",
   "language": "python",
   "name": "python3"
  },
  "language_info": {
   "codemirror_mode": {
    "name": "ipython",
    "version": 3
   },
   "file_extension": ".py",
   "mimetype": "text/x-python",
   "name": "python",
   "nbconvert_exporter": "python",
   "pygments_lexer": "ipython3",
   "version": "3.6.8"
  },
  "toc": {
   "nav_menu": {},
   "number_sections": true,
   "sideBar": true,
   "skip_h1_title": false,
   "toc_cell": false,
   "toc_position": {},
   "toc_section_display": "block",
   "toc_window_display": false
  }
 },
 "nbformat": 4,
 "nbformat_minor": 2
}
